{
 "cells": [
  {
   "cell_type": "code",
   "execution_count": 12,
   "metadata": {},
   "outputs": [],
   "source": [
    "import pygame\n",
    "import math\n",
    "import sys\n",
    "\n",
    "# Initialize Pygame\n",
    "pygame.init()\n",
    "\n",
    "# Constants\n",
    "WHITE = (255, 255, 255)\n",
    "BLACK = (0, 0, 0)\n",
    "RED = (255,0,0)\n",
    "GREEN = (0,255,0)\n",
    "BLUE = (0,0,255)\n",
    "\n",
    "# Create an initial window\n",
    "width, height = 400, 400\n",
    "screen = pygame.display.set_mode((width, height), pygame.RESIZABLE)\n",
    "pygame.display.set_caption(\"TEST\")\n",
    "\n",
    "# Initial position and size of the square\n",
    "# square_size = min(width, height) // 2\n",
    "# square_rect = pygame.Rect((width - square_size) // 2, (height - square_size) // 2, square_size, square_size)\n"
   ]
  },
  {
   "cell_type": "code",
   "execution_count": 13,
   "metadata": {},
   "outputs": [],
   "source": [
    "stimuli = {'ball1':{'color':BLUE,'radius':10,'x':100,'y':200,'dx':6,'dy':0},'ball2':{'color':RED,'radius':10,'x':20,'y':200,'dx':1,'dy':0},'ball3':{'color':GREEN,'radius':10,'x':40,'y':50,'dx':3,'dy':1}}"
   ]
  },
  {
   "cell_type": "code",
   "execution_count": 14,
   "metadata": {},
   "outputs": [],
   "source": [
    "def bounce():\n",
    "    global stimuli\n",
    "    for key in stimuli.keys(): # {'ball1':{'color':BLUE,'radius':10,'dx':5,'dy':5}\n",
    "        x,y = stimuli[key]['x'],stimuli[key]['y']\n",
    "        \n",
    "        if x - stimuli[key]['radius'] <= 0:\n",
    "            \n",
    "            stimuli[key]['dx'] = -(stimuli[key]['dx'])\n",
    "            # print('collision')\n",
    "            \n",
    "        if x + stimuli[key]['radius'] >= width:\n",
    "            stimuli[key]['dx'] = -(stimuli[key]['dx'])\n",
    "            print('collision')\n",
    "            \n",
    "        if y - stimuli[key]['radius'] <= 0:\n",
    "            stimuli[key]['dy'] = -(stimuli[key]['dy'])\n",
    "            print('collision')\n",
    "            \n",
    "        if y + stimuli[key]['radius'] >= height:\n",
    "            stimuli[key]['dy'] = -(stimuli[key]['dy'])\n",
    "            print('collision')\n",
    "\n"
   ]
  },
  {
   "cell_type": "code",
   "execution_count": 15,
   "metadata": {},
   "outputs": [],
   "source": [
    "def drawToDisplaySize():\n",
    "    global width, height, square_rect, square_size\n",
    "    # Update the window size\n",
    "    width, height = event.w, event.h\n",
    "    # Update the size of the square based on the new window size\n",
    "    # square_size = min(width, height) // 2\n",
    "    # square_rect.size = (square_size, square_size)\n",
    "    # # Update the position of the square to keep it centered\n",
    "    # square_rect.x = (width - square_size) // 2\n",
    "    # square_rect.y = (height - square_size) // 2\n",
    "\n"
   ]
  },
  {
   "cell_type": "code",
   "execution_count": 16,
   "metadata": {},
   "outputs": [],
   "source": [
    "def drawStimuli():\n",
    "    # stimuli.keys()\n",
    "    for key in stimuli.keys(): # {'ball1':{'color':BLUE,'radius':10,'dx':5,'dy':5}\n",
    "        # print(stimuli[key])\n",
    "        drawThis = stimuli[key]\n",
    "        \n",
    "        pygame.draw.circle(\n",
    "            screen,  # Surface to draw on\n",
    "            drawThis['color'],  # Color in RGB Fashion\n",
    "            (stimuli[key]['x'], stimuli[key]['y']),  # Center\n",
    "            drawThis['radius'],  # Radius\n",
    "        )"
   ]
  },
  {
   "cell_type": "code",
   "execution_count": 17,
   "metadata": {},
   "outputs": [],
   "source": [
    "def moveStimuli():\n",
    "    global stimuli\n",
    "    # stimuli.keys()\n",
    "    for key in stimuli.keys():#{'ball1':{'color':(0,0,255),'radius':10,'x':100,'y':200,'dx':5,'dy':5}}\n",
    "        # moveThis = stimuli[key]\n",
    "        newX = stimuli[key]['x'] + stimuli[key]['dx']/100\n",
    "        newY = stimuli[key]['y'] + stimuli[key]['dy']/100\n",
    "        # print('new x',newX)\n",
    "        stimuli[key]['x'] = newX\n",
    "        stimuli[key]['y'] = newY\n"
   ]
  },
  {
   "cell_type": "code",
   "execution_count": 18,
   "metadata": {},
   "outputs": [],
   "source": [
    "def calculate_distance(x1, y1, x2, y2):\n",
    "    return math.sqrt((x2 - x1)**2 + (y2 - y1)**2)"
   ]
  },
  {
   "cell_type": "code",
   "execution_count": 19,
   "metadata": {},
   "outputs": [],
   "source": [
    "def collide(stim1,stim2):\n",
    "    global stimuli\n",
    "    print('The following collided',stim1,stim2)\n",
    "    originalstimspeed = stimuli[stim1]['dx']\n",
    "    stimuli[stim1]['dx'] = stimuli[stim2]['dx']\n",
    "    stimuli[stim2]['dx'] += originalstimspeed\n",
    "    stimuli[stim2]['dx'] = -stimuli[stim1]['dx']\n",
    "    stimuli[stim2]['x'] += stimuli[stim2]['dx']\n",
    "    \n",
    "    # (stimuli[stim2]['dx'] = \n",
    "    \n",
    "        "
   ]
  },
  {
   "cell_type": "code",
   "execution_count": 20,
   "metadata": {},
   "outputs": [],
   "source": [
    "def checkDistances():\n",
    "    global stimuli\n",
    "    # stimuli.keys()\n",
    "    for key in stimuli.keys():#{'ball1':{'color':(0,0,255),'radius':10,'x':100,'y':200,'dx':5,'dy':5}}\n",
    "        thisRadius = stimuli[key]['radius']\n",
    "        thisX = stimuli[key]['x']\n",
    "        thisY = stimuli[key]['y']\n",
    "        for subkey in stimuli.keys():\n",
    "            if subkey != key:\n",
    "                otherX = stimuli[subkey]['x']\n",
    "                otherY = stimuli[subkey]['y']\n",
    "                otherRadius = stimuli[key]['radius']\n",
    "                if (calculate_distance (thisX,thisY,otherX,otherY)) <= thisRadius + otherRadius:\n",
    "                    # print('Collision detected!')\n",
    "                    collide(key,subkey)\n",
    "        # newY = stimuli[key]['y'] + stimuli[key]['dy']/100"
   ]
  },
  {
   "cell_type": "code",
   "execution_count": 21,
   "metadata": {},
   "outputs": [
    {
     "name": "stdout",
     "output_type": "stream",
     "text": [
      "collision\n",
      "The following collided ball1 ball2\n",
      "collision\n",
      "collision\n",
      "collision\n",
      "collision\n",
      "The following collided ball1 ball2\n",
      "The following collided ball2 ball3\n",
      "collision\n",
      "The following collided ball1 ball2\n",
      "collision\n",
      "The following collided ball1 ball2\n",
      "collision\n",
      "collision\n",
      "collision\n",
      "The following collided ball1 ball2\n",
      "collision\n",
      "The following collided ball2 ball3\n",
      "The following collided ball1 ball2\n",
      "collision\n",
      "The following collided ball1 ball2\n",
      "collision\n",
      "collision\n",
      "collision\n",
      "The following collided ball1 ball2\n",
      "collision\n",
      "The following collided ball1 ball2\n",
      "collision\n",
      "collision\n"
     ]
    },
    {
     "ename": "SystemExit",
     "evalue": "",
     "output_type": "error",
     "traceback": [
      "An exception has occurred, use %tb to see the full traceback.\n",
      "\u001b[1;31mSystemExit\u001b[0m\n"
     ]
    }
   ],
   "source": [
    "# drawToDisplaySize()\n",
    "while True:\n",
    "    for event in pygame.event.get():\n",
    "        if event.type == pygame.QUIT:\n",
    "            pygame.quit()\n",
    "            sys.exit()\n",
    "\n",
    "        elif event.type == pygame.VIDEORESIZE:\n",
    "            drawToDisplaySize()\n",
    "\n",
    "    # Clear the screen\n",
    "    screen.fill(WHITE)\n",
    "    moveStimuli()\n",
    "    # Draw the square\n",
    "    # pygame.draw.rect(screen, BLACK, square_rect)\n",
    "    drawStimuli()\n",
    "    bounce()\n",
    "    checkDistances()\n",
    "    # Update the display\n",
    "    pygame.display.flip()"
   ]
  }
 ],
 "metadata": {
  "kernelspec": {
   "display_name": "base",
   "language": "python",
   "name": "python3"
  },
  "language_info": {
   "codemirror_mode": {
    "name": "ipython",
    "version": 3
   },
   "file_extension": ".py",
   "mimetype": "text/x-python",
   "name": "python",
   "nbconvert_exporter": "python",
   "pygments_lexer": "ipython3",
   "version": "3.11.4"
  }
 },
 "nbformat": 4,
 "nbformat_minor": 2
}
